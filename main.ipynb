{
 "cells": [
  {
   "cell_type": "code",
   "execution_count": 1,
   "id": "45e4ef8d",
   "metadata": {},
   "outputs": [
    {
     "name": "stdout",
     "output_type": "stream",
     "text": [
      "Processing 00.jpg ...\n",
      "Processing 10045.png ...\n",
      "Processing Blake_Lively.jpg ...\n",
      "Results are in the [results] folder.\n"
     ]
    },
    {
     "name": "stderr",
     "output_type": "stream",
     "text": [
      "d:\\Brave\\Download\\No\\DACN_KHMT_GFPGAN\\DACN_KHMT_GFPGAN\\inference_gfpgan.py:63: UserWarning: The unoptimized RealESRGAN is slow on CPU. We do not use it. If you really want to use it, please modify the corresponding codes.\n",
      "  warnings.warn('The unoptimized RealESRGAN is slow on CPU. We do not use it. '\n",
      "d:\\Brave\\Download\\No\\DACN_KHMT_GFPGAN\\DACN_KHMT_GFPGAN\\.venv\\Lib\\site-packages\\torchvision\\models\\_utils.py:208: UserWarning: The parameter 'pretrained' is deprecated since 0.13 and may be removed in the future, please use 'weights' instead.\n",
      "  warnings.warn(\n",
      "d:\\Brave\\Download\\No\\DACN_KHMT_GFPGAN\\DACN_KHMT_GFPGAN\\.venv\\Lib\\site-packages\\torchvision\\models\\_utils.py:223: UserWarning: Arguments other than a weight enum or `None` for 'weights' are deprecated since 0.13 and may be removed in the future. The current behavior is equivalent to passing `weights=None`.\n",
      "  warnings.warn(msg)\n"
     ]
    }
   ],
   "source": [
    "!python inference_gfpgan.py -i inputs/whole_imgs -o results -v 1.4 -s 2\n"
   ]
  },
  {
   "cell_type": "code",
   "execution_count": 2,
   "id": "6931271f",
   "metadata": {},
   "outputs": [
    {
     "name": "stdout",
     "output_type": "stream",
     "text": [
      "Processing 00.jpg ...\n",
      "Processing 10045.png ...\n",
      "Processing Blake_Lively.jpg ...\n",
      "Results are in the [results] folder.\n"
     ]
    },
    {
     "name": "stderr",
     "output_type": "stream",
     "text": [
      "d:\\Brave\\Download\\No\\DACN_KHMT_GFPGAN\\DACN_KHMT_GFPGAN\\inference_gfpgan.py:63: UserWarning: The unoptimized RealESRGAN is slow on CPU. We do not use it. If you really want to use it, please modify the corresponding codes.\n",
      "  warnings.warn('The unoptimized RealESRGAN is slow on CPU. We do not use it. '\n",
      "d:\\Brave\\Download\\No\\DACN_KHMT_GFPGAN\\DACN_KHMT_GFPGAN\\.venv\\Lib\\site-packages\\torchvision\\models\\_utils.py:208: UserWarning: The parameter 'pretrained' is deprecated since 0.13 and may be removed in the future, please use 'weights' instead.\n",
      "  warnings.warn(\n",
      "d:\\Brave\\Download\\No\\DACN_KHMT_GFPGAN\\DACN_KHMT_GFPGAN\\.venv\\Lib\\site-packages\\torchvision\\models\\_utils.py:223: UserWarning: Arguments other than a weight enum or `None` for 'weights' are deprecated since 0.13 and may be removed in the future. The current behavior is equivalent to passing `weights=None`.\n",
      "  warnings.warn(msg)\n"
     ]
    }
   ],
   "source": [
    "!python inference_gfpgan.py -i inputs/whole_imgs -o results -v 1.2 -s 2"
   ]
  },
  {
   "cell_type": "markdown",
   "id": "2d8100dc",
   "metadata": {},
   "source": [
    "Bình thường"
   ]
  },
  {
   "cell_type": "code",
   "execution_count": 3,
   "id": "cb6275bf",
   "metadata": {},
   "outputs": [
    {
     "name": "stdout",
     "output_type": "stream",
     "text": [
      "\n",
      "🔄 Đang chạy GFPGAN v1, output -> whole_imgs_results_v1\n",
      "\n",
      "🔄 Đang chạy GFPGAN v1.3, output -> whole_imgs_results_v13\n",
      "\n",
      "🔄 Đang chạy GFPGAN v1.4, output -> whole_imgs_results_v14\n",
      "\n",
      "🔄 Đang chạy GFPGAN vclean, output -> whole_imgs_results_vclean\n",
      "\n",
      "✅ Hoàn thành! Kiểm tra các thư mục results_v1, results_v13, results_v14, results_vclean\n"
     ]
    }
   ],
   "source": [
    "import os\n",
    "\n",
    "# Các phiên bản muốn chạy\n",
    "versions = [\"1\", \"1.3\", \"1.4\", \"clean\"]\n",
    "\n",
    "# Thư mục input (ảnh gốc)\n",
    "input_dir = \"inputs/whole_imgs\"\n",
    "\n",
    "# Scale factor (2x, có thể đổi thành 1 hoặc 4)\n",
    "scale = 2\n",
    "\n",
    "for v in versions:\n",
    "    output_dir = f\"whole_imgs_results_v{v.replace('.', '')}\"\n",
    "    print(f\"\\n🔄 Đang chạy GFPGAN v{v}, output -> {output_dir}\")\n",
    "    \n",
    "    # Lệnh chạy GFPGAN\n",
    "    cmd = f\"python inference_gfpgan.py -i {input_dir} -o {output_dir} -v {v} -s {scale}\"\n",
    "    os.system(cmd)\n",
    "\n",
    "print(\"\\n✅ Hoàn thành! Kiểm tra các thư mục results_v1, results_v13, results_v14, results_vclean\")\n"
   ]
  },
  {
   "cell_type": "markdown",
   "id": "70032992",
   "metadata": {},
   "source": [
    "Ảnh đen trắng => ảnh màu"
   ]
  },
  {
   "cell_type": "code",
   "execution_count": 5,
   "id": "c4a63fea",
   "metadata": {},
   "outputs": [
    {
     "name": "stdout",
     "output_type": "stream",
     "text": [
      "\n",
      "🔄 Đang chạy GFPGAN v1, output -> cropped_faces_results_v1\n",
      "\n",
      "✅ Hoàn thành! Kiểm tra các thư mục results_v1\n"
     ]
    }
   ],
   "source": [
    "import os\n",
    "\n",
    "# Các phiên bản muốn chạy\n",
    "versions = [\"1\"]\n",
    "\n",
    "# Thư mục input (ảnh gốc)\n",
    "input_dir = \"inputs/cropped_faces\"\n",
    "\n",
    "# Scale factor (2x, có thể đổi thành 1 hoặc 4)\n",
    "scale = 2\n",
    "\n",
    "for v in versions:\n",
    "    output_dir = f\"cropped_faces_results_v{v.replace('.', '')}\"\n",
    "    print(f\"\\n🔄 Đang chạy GFPGAN v{v}, output -> {output_dir}\")\n",
    "    \n",
    "    # Lệnh chạy GFPGAN\n",
    "    cmd = f\"python inference_gfpgan.py -i {input_dir} -o {output_dir} -v {v} -s {scale}\"\n",
    "    os.system(cmd)\n",
    "\n",
    "print(\"\\n✅ Hoàn thành! Kiểm tra các thư mục results_v1\")\n"
   ]
  }
 ],
 "metadata": {
  "kernelspec": {
   "display_name": ".venv",
   "language": "python",
   "name": "python3"
  },
  "language_info": {
   "codemirror_mode": {
    "name": "ipython",
    "version": 3
   },
   "file_extension": ".py",
   "mimetype": "text/x-python",
   "name": "python",
   "nbconvert_exporter": "python",
   "pygments_lexer": "ipython3",
   "version": "3.13.2"
  }
 },
 "nbformat": 4,
 "nbformat_minor": 5
}
