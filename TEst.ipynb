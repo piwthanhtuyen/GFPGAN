{
 "cells": [
  {
   "cell_type": "code",
   "execution_count": 1,
   "id": "d1af81a0",
   "metadata": {},
   "outputs": [
    {
     "name": "stdout",
     "output_type": "stream",
     "text": [
      "c:\\Users\\daovo\\AppData\\Local\\Programs\\Python\\Python310\\python.exe\n",
      "C:\\Program Files\\Python312\\python.exe\n",
      "C:\\Users\\daovo\\AppData\\Local\\Microsoft\\WindowsApps\\python.exe\n",
      "C:\\msys64\\mingw64\\bin\\python.exe\n"
     ]
    }
   ],
   "source": [
    "!where python\n"
   ]
  },
  {
   "cell_type": "markdown",
   "id": "492047a6",
   "metadata": {},
   "source": [
    "#Cài đặt version 3.10.10 or 3.10.11 và thư viện "
   ]
  },
  {
   "cell_type": "code",
   "execution_count": 2,
   "id": "ae744ac9",
   "metadata": {},
   "outputs": [],
   "source": [
    "#!python -m ipykernel install --user --name=gfpgan_env --display-name \"Python 3.10 (gfpgan_env)\""
   ]
  },
  {
   "cell_type": "code",
   "execution_count": 3,
   "id": "97ce3b73",
   "metadata": {},
   "outputs": [
    {
     "name": "stdout",
     "output_type": "stream",
     "text": [
      "Python 3.10.11\n"
     ]
    }
   ],
   "source": [
    "!python --version\n"
   ]
  },
  {
   "cell_type": "code",
   "execution_count": 3,
   "id": "01fe3f70",
   "metadata": {},
   "outputs": [
    {
     "name": "stdout",
     "output_type": "stream",
     "text": [
      "Defaulting to user installation because normal site-packages is not writeable\n",
      "Obtaining file:///D:/DACN_KHMT_GFPGAN/BasicSR\n",
      "  Installing build dependencies: started\n",
      "  Installing build dependencies: finished with status 'done'\n",
      "  Checking if build backend supports build_editable: started\n",
      "  Checking if build backend supports build_editable: finished with status 'done'\n",
      "  Getting requirements to build editable: started\n",
      "  Getting requirements to build editable: finished with status 'done'\n",
      "  Installing backend dependencies: started\n",
      "  Installing backend dependencies: still running...\n",
      "  Installing backend dependencies: finished with status 'done'\n",
      "  Preparing editable metadata (pyproject.toml): started\n",
      "  Preparing editable metadata (pyproject.toml): finished with status 'done'\n",
      "Requirement already satisfied: addict in c:\\users\\daovo\\appdata\\roaming\\python\\python312\\site-packages (from basicsr==1.4.2) (2.4.0)\n",
      "Requirement already satisfied: future in c:\\users\\daovo\\appdata\\roaming\\python\\python312\\site-packages (from basicsr==1.4.2) (1.0.0)\n",
      "Requirement already satisfied: lmdb in c:\\users\\daovo\\appdata\\roaming\\python\\python312\\site-packages (from basicsr==1.4.2) (1.7.3)\n",
      "Requirement already satisfied: numpy>=1.17 in c:\\users\\daovo\\appdata\\roaming\\python\\python312\\site-packages (from basicsr==1.4.2) (2.2.6)\n",
      "Requirement already satisfied: opencv-python in c:\\users\\daovo\\appdata\\roaming\\python\\python312\\site-packages (from basicsr==1.4.2) (4.12.0.88)\n",
      "Requirement already satisfied: Pillow in c:\\users\\daovo\\appdata\\roaming\\python\\python312\\site-packages (from basicsr==1.4.2) (10.2.0)\n",
      "Requirement already satisfied: pyyaml in c:\\users\\daovo\\appdata\\roaming\\python\\python312\\site-packages (from basicsr==1.4.2) (6.0.2)\n",
      "Requirement already satisfied: requests in c:\\users\\daovo\\appdata\\roaming\\python\\python312\\site-packages (from basicsr==1.4.2) (2.32.3)\n",
      "Requirement already satisfied: scikit-image in c:\\users\\daovo\\appdata\\roaming\\python\\python312\\site-packages (from basicsr==1.4.2) (0.25.2)\n",
      "Requirement already satisfied: scipy in c:\\users\\daovo\\appdata\\roaming\\python\\python312\\site-packages (from basicsr==1.4.2) (1.14.1)\n",
      "Requirement already satisfied: tb-nightly in c:\\users\\daovo\\appdata\\roaming\\python\\python312\\site-packages (from basicsr==1.4.2) (2.21.0a20250923)\n",
      "Requirement already satisfied: torch>=1.7 in c:\\users\\daovo\\appdata\\roaming\\python\\python312\\site-packages (from basicsr==1.4.2) (2.4.0+cu118)\n",
      "Requirement already satisfied: torchvision in c:\\users\\daovo\\appdata\\roaming\\python\\python312\\site-packages (from basicsr==1.4.2) (0.19.0+cu118)\n",
      "Requirement already satisfied: tqdm in c:\\users\\daovo\\appdata\\roaming\\python\\python312\\site-packages (from basicsr==1.4.2) (4.67.1)\n",
      "Requirement already satisfied: yapf in c:\\users\\daovo\\appdata\\roaming\\python\\python312\\site-packages (from basicsr==1.4.2) (0.43.0)\n",
      "Requirement already satisfied: filelock in c:\\users\\daovo\\appdata\\roaming\\python\\python312\\site-packages (from torch>=1.7->basicsr==1.4.2) (3.13.1)\n",
      "Requirement already satisfied: typing-extensions>=4.8.0 in c:\\users\\daovo\\appdata\\roaming\\python\\python312\\site-packages (from torch>=1.7->basicsr==1.4.2) (4.12.2)\n",
      "Requirement already satisfied: sympy in c:\\users\\daovo\\appdata\\roaming\\python\\python312\\site-packages (from torch>=1.7->basicsr==1.4.2) (1.12)\n",
      "Requirement already satisfied: networkx in c:\\users\\daovo\\appdata\\roaming\\python\\python312\\site-packages (from torch>=1.7->basicsr==1.4.2) (3.2.1)\n",
      "Requirement already satisfied: jinja2 in c:\\users\\daovo\\appdata\\roaming\\python\\python312\\site-packages (from torch>=1.7->basicsr==1.4.2) (3.1.3)\n",
      "Requirement already satisfied: fsspec in c:\\users\\daovo\\appdata\\roaming\\python\\python312\\site-packages (from torch>=1.7->basicsr==1.4.2) (2024.2.0)\n",
      "Requirement already satisfied: setuptools in c:\\users\\daovo\\appdata\\roaming\\python\\python312\\site-packages (from torch>=1.7->basicsr==1.4.2) (70.0.0)\n",
      "Requirement already satisfied: charset-normalizer<4,>=2 in c:\\users\\daovo\\appdata\\roaming\\python\\python312\\site-packages (from requests->basicsr==1.4.2) (3.3.2)\n",
      "Requirement already satisfied: idna<4,>=2.5 in c:\\users\\daovo\\appdata\\roaming\\python\\python312\\site-packages (from requests->basicsr==1.4.2) (3.8)\n",
      "Requirement already satisfied: urllib3<3,>=1.21.1 in c:\\users\\daovo\\appdata\\roaming\\python\\python312\\site-packages (from requests->basicsr==1.4.2) (2.2.2)\n",
      "Requirement already satisfied: certifi>=2017.4.17 in c:\\users\\daovo\\appdata\\roaming\\python\\python312\\site-packages (from requests->basicsr==1.4.2) (2024.8.30)\n",
      "Requirement already satisfied: imageio!=2.35.0,>=2.33 in c:\\users\\daovo\\appdata\\roaming\\python\\python312\\site-packages (from scikit-image->basicsr==1.4.2) (2.37.0)\n",
      "Requirement already satisfied: tifffile>=2022.8.12 in c:\\users\\daovo\\appdata\\roaming\\python\\python312\\site-packages (from scikit-image->basicsr==1.4.2) (2025.9.20)\n",
      "Requirement already satisfied: packaging>=21 in c:\\users\\daovo\\appdata\\roaming\\python\\python312\\site-packages (from scikit-image->basicsr==1.4.2) (25.0)\n",
      "Requirement already satisfied: lazy-loader>=0.4 in c:\\users\\daovo\\appdata\\roaming\\python\\python312\\site-packages (from scikit-image->basicsr==1.4.2) (0.4)\n",
      "Requirement already satisfied: absl-py>=0.4 in c:\\users\\daovo\\appdata\\roaming\\python\\python312\\site-packages (from tb-nightly->basicsr==1.4.2) (2.3.1)\n",
      "Requirement already satisfied: grpcio>=1.48.2 in c:\\users\\daovo\\appdata\\roaming\\python\\python312\\site-packages (from tb-nightly->basicsr==1.4.2) (1.75.0)\n",
      "Requirement already satisfied: markdown>=2.6.8 in c:\\users\\daovo\\appdata\\roaming\\python\\python312\\site-packages (from tb-nightly->basicsr==1.4.2) (3.9)\n",
      "Requirement already satisfied: protobuf!=4.24.0,>=3.19.6 in c:\\users\\daovo\\appdata\\roaming\\python\\python312\\site-packages (from tb-nightly->basicsr==1.4.2) (6.32.1)\n",
      "Requirement already satisfied: tensorboard-data-server<0.8.0,>=0.7.0 in c:\\users\\daovo\\appdata\\roaming\\python\\python312\\site-packages (from tb-nightly->basicsr==1.4.2) (0.7.2)\n",
      "Requirement already satisfied: werkzeug>=1.0.1 in c:\\users\\daovo\\appdata\\roaming\\python\\python312\\site-packages (from tb-nightly->basicsr==1.4.2) (3.0.4)\n",
      "Requirement already satisfied: colorama in c:\\users\\daovo\\appdata\\roaming\\python\\python312\\site-packages (from tqdm->basicsr==1.4.2) (0.4.6)\n",
      "Requirement already satisfied: platformdirs>=3.5.1 in c:\\users\\daovo\\appdata\\roaming\\python\\python312\\site-packages (from yapf->basicsr==1.4.2) (4.3.6)\n",
      "Requirement already satisfied: MarkupSafe>=2.1.1 in c:\\users\\daovo\\appdata\\roaming\\python\\python312\\site-packages (from werkzeug>=1.0.1->tb-nightly->basicsr==1.4.2) (2.1.5)\n",
      "Requirement already satisfied: mpmath>=0.19 in c:\\users\\daovo\\appdata\\roaming\\python\\python312\\site-packages (from sympy->torch>=1.7->basicsr==1.4.2) (1.3.0)\n",
      "Building wheels for collected packages: basicsr\n",
      "  Building editable for basicsr (pyproject.toml): started\n",
      "  Building editable for basicsr (pyproject.toml): finished with status 'done'\n",
      "  Created wheel for basicsr: filename=basicsr-1.4.2-0.editable-py3-none-any.whl size=10681 sha256=5f0d0c63a13739f412c97759106eac55b32cf8ade63c2dd60e62f130c334978a\n",
      "  Stored in directory: C:\\Users\\daovo\\AppData\\Local\\Temp\\pip-ephem-wheel-cache-zdv9nph6\\wheels\\aa\\83\\92\\69f3c8d4e6699e7b7ddee1ddb631dc74634c079574066bc335\n",
      "Successfully built basicsr\n",
      "Installing collected packages: basicsr\n",
      "  Attempting uninstall: basicsr\n",
      "    Found existing installation: basicsr 1.4.2\n",
      "    Uninstalling basicsr-1.4.2:\n",
      "      Successfully uninstalled basicsr-1.4.2\n",
      "Successfully installed basicsr-1.4.2\n"
     ]
    },
    {
     "name": "stderr",
     "output_type": "stream",
     "text": [
      "\n",
      "[notice] A new release of pip is available: 24.2 -> 25.2\n",
      "[notice] To update, run: C:\\Program Files\\Python312\\python.exe -m pip install --upgrade pip\n"
     ]
    },
    {
     "name": "stdout",
     "output_type": "stream",
     "text": [
      "Defaulting to user installation because normal site-packages is not writeable\n",
      "Requirement already satisfied: facexlib in c:\\users\\daovo\\appdata\\roaming\\python\\python312\\site-packages (from -r requirements.txt (line 2)) (0.3.0)\n",
      "Requirement already satisfied: lmdb in c:\\users\\daovo\\appdata\\roaming\\python\\python312\\site-packages (from -r requirements.txt (line 3)) (1.7.3)\n",
      "Requirement already satisfied: numpy in c:\\users\\daovo\\appdata\\roaming\\python\\python312\\site-packages (from -r requirements.txt (line 4)) (2.2.6)\n",
      "Requirement already satisfied: opencv-python in c:\\users\\daovo\\appdata\\roaming\\python\\python312\\site-packages (from -r requirements.txt (line 5)) (4.12.0.88)\n",
      "Requirement already satisfied: pyyaml in c:\\users\\daovo\\appdata\\roaming\\python\\python312\\site-packages (from -r requirements.txt (line 6)) (6.0.2)\n",
      "Requirement already satisfied: scipy in c:\\users\\daovo\\appdata\\roaming\\python\\python312\\site-packages (from -r requirements.txt (line 7)) (1.14.1)\n",
      "Requirement already satisfied: tb-nightly in c:\\users\\daovo\\appdata\\roaming\\python\\python312\\site-packages (from -r requirements.txt (line 8)) (2.21.0a20250923)\n",
      "Requirement already satisfied: torch in c:\\users\\daovo\\appdata\\roaming\\python\\python312\\site-packages (from -r requirements.txt (line 9)) (2.4.0+cu118)\n",
      "Requirement already satisfied: torchvision in c:\\users\\daovo\\appdata\\roaming\\python\\python312\\site-packages (from -r requirements.txt (line 10)) (0.19.0+cu118)\n",
      "Requirement already satisfied: tqdm in c:\\users\\daovo\\appdata\\roaming\\python\\python312\\site-packages (from -r requirements.txt (line 11)) (4.67.1)\n",
      "Requirement already satisfied: yapf in c:\\users\\daovo\\appdata\\roaming\\python\\python312\\site-packages (from -r requirements.txt (line 12)) (0.43.0)\n",
      "Requirement already satisfied: filterpy in c:\\users\\daovo\\appdata\\roaming\\python\\python312\\site-packages (from facexlib->-r requirements.txt (line 2)) (1.4.5)\n",
      "Requirement already satisfied: numba in c:\\users\\daovo\\appdata\\roaming\\python\\python312\\site-packages (from facexlib->-r requirements.txt (line 2)) (0.62.0)\n",
      "Requirement already satisfied: Pillow in c:\\users\\daovo\\appdata\\roaming\\python\\python312\\site-packages (from facexlib->-r requirements.txt (line 2)) (10.2.0)\n",
      "Requirement already satisfied: absl-py>=0.4 in c:\\users\\daovo\\appdata\\roaming\\python\\python312\\site-packages (from tb-nightly->-r requirements.txt (line 8)) (2.3.1)\n",
      "Requirement already satisfied: grpcio>=1.48.2 in c:\\users\\daovo\\appdata\\roaming\\python\\python312\\site-packages (from tb-nightly->-r requirements.txt (line 8)) (1.75.0)\n",
      "Requirement already satisfied: markdown>=2.6.8 in c:\\users\\daovo\\appdata\\roaming\\python\\python312\\site-packages (from tb-nightly->-r requirements.txt (line 8)) (3.9)\n",
      "Requirement already satisfied: packaging in c:\\users\\daovo\\appdata\\roaming\\python\\python312\\site-packages (from tb-nightly->-r requirements.txt (line 8)) (25.0)\n",
      "Requirement already satisfied: protobuf!=4.24.0,>=3.19.6 in c:\\users\\daovo\\appdata\\roaming\\python\\python312\\site-packages (from tb-nightly->-r requirements.txt (line 8)) (6.32.1)\n",
      "Requirement already satisfied: setuptools>=41.0.0 in c:\\users\\daovo\\appdata\\roaming\\python\\python312\\site-packages (from tb-nightly->-r requirements.txt (line 8)) (70.0.0)\n",
      "Requirement already satisfied: tensorboard-data-server<0.8.0,>=0.7.0 in c:\\users\\daovo\\appdata\\roaming\\python\\python312\\site-packages (from tb-nightly->-r requirements.txt (line 8)) (0.7.2)\n",
      "Requirement already satisfied: werkzeug>=1.0.1 in c:\\users\\daovo\\appdata\\roaming\\python\\python312\\site-packages (from tb-nightly->-r requirements.txt (line 8)) (3.0.4)\n",
      "Requirement already satisfied: filelock in c:\\users\\daovo\\appdata\\roaming\\python\\python312\\site-packages (from torch->-r requirements.txt (line 9)) (3.13.1)\n",
      "Requirement already satisfied: typing-extensions>=4.8.0 in c:\\users\\daovo\\appdata\\roaming\\python\\python312\\site-packages (from torch->-r requirements.txt (line 9)) (4.12.2)\n",
      "Requirement already satisfied: sympy in c:\\users\\daovo\\appdata\\roaming\\python\\python312\\site-packages (from torch->-r requirements.txt (line 9)) (1.12)\n",
      "Requirement already satisfied: networkx in c:\\users\\daovo\\appdata\\roaming\\python\\python312\\site-packages (from torch->-r requirements.txt (line 9)) (3.2.1)\n",
      "Requirement already satisfied: jinja2 in c:\\users\\daovo\\appdata\\roaming\\python\\python312\\site-packages (from torch->-r requirements.txt (line 9)) (3.1.3)\n",
      "Requirement already satisfied: fsspec in c:\\users\\daovo\\appdata\\roaming\\python\\python312\\site-packages (from torch->-r requirements.txt (line 9)) (2024.2.0)\n",
      "Requirement already satisfied: colorama in c:\\users\\daovo\\appdata\\roaming\\python\\python312\\site-packages (from tqdm->-r requirements.txt (line 11)) (0.4.6)\n",
      "Requirement already satisfied: platformdirs>=3.5.1 in c:\\users\\daovo\\appdata\\roaming\\python\\python312\\site-packages (from yapf->-r requirements.txt (line 12)) (4.3.6)\n",
      "Requirement already satisfied: MarkupSafe>=2.1.1 in c:\\users\\daovo\\appdata\\roaming\\python\\python312\\site-packages (from werkzeug>=1.0.1->tb-nightly->-r requirements.txt (line 8)) (2.1.5)\n",
      "Requirement already satisfied: matplotlib in c:\\users\\daovo\\appdata\\roaming\\python\\python312\\site-packages (from filterpy->facexlib->-r requirements.txt (line 2)) (3.10.6)\n",
      "Requirement already satisfied: llvmlite<0.46,>=0.45.0dev0 in c:\\users\\daovo\\appdata\\roaming\\python\\python312\\site-packages (from numba->facexlib->-r requirements.txt (line 2)) (0.45.0)\n",
      "Requirement already satisfied: mpmath>=0.19 in c:\\users\\daovo\\appdata\\roaming\\python\\python312\\site-packages (from sympy->torch->-r requirements.txt (line 9)) (1.3.0)\n",
      "Requirement already satisfied: contourpy>=1.0.1 in c:\\users\\daovo\\appdata\\roaming\\python\\python312\\site-packages (from matplotlib->filterpy->facexlib->-r requirements.txt (line 2)) (1.3.3)\n",
      "Requirement already satisfied: cycler>=0.10 in c:\\users\\daovo\\appdata\\roaming\\python\\python312\\site-packages (from matplotlib->filterpy->facexlib->-r requirements.txt (line 2)) (0.12.1)\n",
      "Requirement already satisfied: fonttools>=4.22.0 in c:\\users\\daovo\\appdata\\roaming\\python\\python312\\site-packages (from matplotlib->filterpy->facexlib->-r requirements.txt (line 2)) (4.60.0)\n",
      "Requirement already satisfied: kiwisolver>=1.3.1 in c:\\users\\daovo\\appdata\\roaming\\python\\python312\\site-packages (from matplotlib->filterpy->facexlib->-r requirements.txt (line 2)) (1.4.9)\n",
      "Requirement already satisfied: pyparsing>=2.3.1 in c:\\users\\daovo\\appdata\\roaming\\python\\python312\\site-packages (from matplotlib->filterpy->facexlib->-r requirements.txt (line 2)) (3.2.4)\n",
      "Requirement already satisfied: python-dateutil>=2.7 in c:\\users\\daovo\\appdata\\roaming\\python\\python312\\site-packages (from matplotlib->filterpy->facexlib->-r requirements.txt (line 2)) (2.9.0.post0)\n",
      "Requirement already satisfied: six>=1.5 in c:\\users\\daovo\\appdata\\roaming\\python\\python312\\site-packages (from python-dateutil>=2.7->matplotlib->filterpy->facexlib->-r requirements.txt (line 2)) (1.16.0)\n"
     ]
    },
    {
     "name": "stderr",
     "output_type": "stream",
     "text": [
      "\n",
      "[notice] A new release of pip is available: 24.2 -> 25.2\n",
      "[notice] To update, run: C:\\Program Files\\Python312\\python.exe -m pip install --upgrade pip\n",
      "Traceback (most recent call last):\n",
      "  File \"d:\\DACN_KHMT_GFPGAN\\setup.py\", line 83, in <module>\n",
      "    write_version_py()\n",
      "  File \"d:\\DACN_KHMT_GFPGAN\\setup.py\", line 60, in write_version_py\n",
      "    with open('VERSION', 'r') as f:\n",
      "FileNotFoundError: [Errno 2] No such file or directory: 'VERSION'\n"
     ]
    }
   ],
   "source": [
    "!pip install -e ./BasicSR\n",
    "!pip install -r requirements.txt\n",
    "!python setup.py develop"
   ]
  },
  {
   "cell_type": "code",
   "execution_count": 7,
   "id": "7fb5a214",
   "metadata": {},
   "outputs": [
    {
     "name": "stdout",
     "output_type": "stream",
     "text": [
      "Defaulting to user installation because normal site-packages is not writeable\n",
      "Requirement already satisfied: flask==2.3.3 in c:\\users\\daovo\\appdata\\roaming\\python\\python312\\site-packages (2.3.3)\n",
      "Requirement already satisfied: Werkzeug>=2.3.7 in c:\\users\\daovo\\appdata\\roaming\\python\\python312\\site-packages (from flask==2.3.3) (3.0.4)\n",
      "Requirement already satisfied: Jinja2>=3.1.2 in c:\\users\\daovo\\appdata\\roaming\\python\\python312\\site-packages (from flask==2.3.3) (3.1.3)\n",
      "Requirement already satisfied: itsdangerous>=2.1.2 in c:\\users\\daovo\\appdata\\roaming\\python\\python312\\site-packages (from flask==2.3.3) (2.2.0)\n",
      "Requirement already satisfied: click>=8.1.3 in c:\\users\\daovo\\appdata\\roaming\\python\\python312\\site-packages (from flask==2.3.3) (8.1.7)\n",
      "Requirement already satisfied: blinker>=1.6.2 in c:\\users\\daovo\\appdata\\roaming\\python\\python312\\site-packages (from flask==2.3.3) (1.8.2)\n",
      "Requirement already satisfied: colorama in c:\\users\\daovo\\appdata\\roaming\\python\\python312\\site-packages (from click>=8.1.3->flask==2.3.3) (0.4.6)\n",
      "Requirement already satisfied: MarkupSafe>=2.0 in c:\\users\\daovo\\appdata\\roaming\\python\\python312\\site-packages (from Jinja2>=3.1.2->flask==2.3.3) (2.1.5)\n"
     ]
    },
    {
     "name": "stderr",
     "output_type": "stream",
     "text": [
      "\n",
      "[notice] A new release of pip is available: 24.2 -> 25.2\n",
      "[notice] To update, run: C:\\Program Files\\Python312\\python.exe -m pip install --upgrade pip\n"
     ]
    }
   ],
   "source": [
    "!pip install flask==2.3.3"
   ]
  },
  {
   "cell_type": "markdown",
   "id": "99a11c9a",
   "metadata": {},
   "source": [
    "# RUN Thư viện"
   ]
  },
  {
   "cell_type": "code",
   "execution_count": 1,
   "id": "f07489ad",
   "metadata": {},
   "outputs": [
    {
     "name": "stderr",
     "output_type": "stream",
     "text": [
      "Traceback (most recent call last):\n",
      "  File \"d:\\DACN_KHMT_GFPGAN\\inference_gfpgan.py\", line 2, in <module>\n",
      "    import cv2\n",
      "ModuleNotFoundError: No module named 'cv2'\n"
     ]
    }
   ],
   "source": [
    "!python inference_gfpgan.py -i inputs/whole_imgs -o resultsresults_vclean -v 1.2 -s 2"
   ]
  },
  {
   "cell_type": "code",
   "execution_count": 16,
   "id": "642eee0e",
   "metadata": {},
   "outputs": [
    {
     "name": "stdout",
     "output_type": "stream",
     "text": [
      "Chạy GFPGAN v1\n",
      "Processing 00.jpg ...\n",
      "Processing 10045.png ...\n",
      "Processing Blake_Lively.jpg ...\n",
      "Results are in the [results_v1] folder.\n"
     ]
    },
    {
     "name": "stderr",
     "output_type": "stream",
     "text": [
      "d:\\DACN_KHMT_GFPGAN\\inference_gfpgan.py:63: UserWarning: The unoptimized RealESRGAN is slow on CPU. We do not use it. If you really want to use it, please modify the corresponding codes.\n",
      "  warnings.warn('The unoptimized RealESRGAN is slow on CPU. We do not use it. '\n",
      "d:\\DACN_KHMT_GFPGAN\\gfpgan_env\\lib\\site-packages\\torchvision\\models\\_utils.py:208: UserWarning: The parameter 'pretrained' is deprecated since 0.13 and may be removed in the future, please use 'weights' instead.\n",
      "  warnings.warn(\n",
      "d:\\DACN_KHMT_GFPGAN\\gfpgan_env\\lib\\site-packages\\torchvision\\models\\_utils.py:223: UserWarning: Arguments other than a weight enum or `None` for 'weights' are deprecated since 0.13 and may be removed in the future. The current behavior is equivalent to passing `weights=None`.\n",
      "  warnings.warn(msg)\n"
     ]
    }
   ],
   "source": [
    "!python inference_gfpgan.py -i inputs/whole_imgs -o results_v1 -v 1 -s 2"
   ]
  },
  {
   "cell_type": "code",
   "execution_count": 17,
   "id": "cb6275bf",
   "metadata": {},
   "outputs": [
    {
     "name": "stdout",
     "output_type": "stream",
     "text": [
      "\n",
      "🔄 Đang chạy GFPGAN v1, output -> results_v1\n",
      "\n",
      "🔄 Đang chạy GFPGAN v1.3, output -> results_v13\n",
      "\n",
      "🔄 Đang chạy GFPGAN v1.4, output -> results_v14\n",
      "\n",
      "🔄 Đang chạy GFPGAN vclean, output -> results_vclean\n",
      "\n",
      "✅ Hoàn thành! Kiểm tra các thư mục results_v1, results_v13, results_v14, results_vclean\n"
     ]
    }
   ],
   "source": [
    "import os\n",
    "\n",
    "# Các phiên bản muốn chạy\n",
    "versions = [\"1\", \"1.3\", \"1.4\", \"clean\"]\n",
    "\n",
    "# Thư mục input (ảnh gốc)\n",
    "input_dir = \"inputs/whole_imgs\"\n",
    "\n",
    "# Scale factor (2x, có thể đổi thành 1 hoặc 4)\n",
    "scale = 2\n",
    "\n",
    "for v in versions:\n",
    "    output_dir = f\"results_v{v.replace('.', '')}\"\n",
    "    print(f\"\\n🔄 Đang chạy GFPGAN v{v}, output -> {output_dir}\")\n",
    "    \n",
    "    # Lệnh chạy GFPGAN\n",
    "    cmd = f\"python inference_gfpgan.py -i {input_dir} -o {output_dir} -v {v} -s {scale}\"\n",
    "    os.system(cmd)\n",
    "\n",
    "print(\"\\n✅ Hoàn thành! Kiểm tra các thư mục results_v1, results_v13, results_v14, results_vclean\")\n"
   ]
  }
 ],
 "metadata": {
  "kernelspec": {
   "display_name": "Python 3",
   "language": "python",
   "name": "python3"
  },
  "language_info": {
   "codemirror_mode": {
    "name": "ipython",
    "version": 3
   },
   "file_extension": ".py",
   "mimetype": "text/x-python",
   "name": "python",
   "nbconvert_exporter": "python",
   "pygments_lexer": "ipython3",
   "version": "3.10.11"
  }
 },
 "nbformat": 4,
 "nbformat_minor": 5
}
